{
 "cells": [
  {
   "cell_type": "markdown",
   "metadata": {},
   "source": [
    "# Prepare the data"
   ]
  },
  {
   "cell_type": "markdown",
   "metadata": {},
   "source": [
    "- If you have already got the _\"log.tsv\"_ file, you can skip this part.\n",
    "- And if you don't have, go to this [Colab file](https://colab.research.google.com/drive/1P-i7l84gjmOxgVk16al4lgx5qd9_sqVE?usp=sharing), run all the cell and download it.\n",
    "- The cell below makes sure the file is exists."
   ]
  },
  {
   "cell_type": "code",
   "execution_count": 20,
   "metadata": {},
   "outputs": [
    {
     "name": "stdout",
     "output_type": "stream",
     "text": [
      "You are good to go. :D\n"
     ]
    }
   ],
   "source": [
    "from os import path\n",
    "\n",
    "if path.isfile(\"log.tsv\"):\n",
    "    print(\"You are good to go. :D\")\n",
    "else:\n",
    "    print(\"File not exist. :(\")"
   ]
  },
  {
   "cell_type": "markdown",
   "metadata": {},
   "source": [
    "# Prepare the enviroment"
   ]
  },
  {
   "cell_type": "code",
   "execution_count": 3,
   "metadata": {},
   "outputs": [],
   "source": [
    "import findspark\n",
    "findspark.init()\n",
    "\n",
    "from pyspark.sql import SparkSession"
   ]
  },
  {
   "cell_type": "code",
   "execution_count": 4,
   "metadata": {},
   "outputs": [],
   "source": [
    "spark = SparkSession.builder.appName(\"Git log analysis\").getOrCreate()"
   ]
  },
  {
   "cell_type": "code",
   "execution_count": 5,
   "metadata": {},
   "outputs": [
    {
     "data": {
      "text/plain": [
       "'G:\\\\ThirdPartyApps\\\\Spark\\\\spark-3.2.1-bin-hadoop3.2'"
      ]
     },
     "execution_count": 5,
     "metadata": {},
     "output_type": "execute_result"
    }
   ],
   "source": [
    "findspark.find()"
   ]
  },
  {
   "cell_type": "markdown",
   "metadata": {},
   "source": [
    "# Read the data to Spark dataframe"
   ]
  },
  {
   "cell_type": "code",
   "execution_count": 14,
   "metadata": {},
   "outputs": [],
   "source": [
    "df = spark.read.csv(\"./log.tsv\", sep=\"\\t\", header=True, inferSchema=True)"
   ]
  },
  {
   "cell_type": "code",
   "execution_count": 18,
   "metadata": {},
   "outputs": [
    {
     "name": "stdout",
     "output_type": "stream",
     "text": [
      "+-------+---------------+-------------------+--------------------+--------------------+--------------------+--------------------+\n",
      "|     Id|      ParentIds|         AuthorName|         AuthorEmail|          AuthorDate|             Subject|        ChangedFiles|\n",
      "+-------+---------------+-------------------+--------------------+--------------------+--------------------+--------------------+\n",
      "|524aac2|2994fb4 e4e696c|Vidar Tonaas Fauske|   vidartf@gmail.com|Tue, 20 Apr 2021 ...|Merge pull reques...|                null|\n",
      "|e4e696c|        6c1ce97| Frederic COLLONVAL|fcollonval@gmail.com|Sat, 17 Apr 2021 ...|Remove Python 2.7...|docs/source/insta...|\n",
      "|2994fb4|        a5936d1|Vidar Tonaas Fauske|   vidartf@gmail.com|Wed, 14 Apr 2021 ...|         back to dev|  nbdime/_version.py|\n",
      "+-------+---------------+-------------------+--------------------+--------------------+--------------------+--------------------+\n",
      "only showing top 3 rows\n",
      "\n"
     ]
    }
   ],
   "source": [
    "df.show(3)"
   ]
  },
  {
   "cell_type": "code",
   "execution_count": 19,
   "metadata": {},
   "outputs": [],
   "source": [
    "num_rows = df.count()\n",
    "num_cols = len(df.columns)"
   ]
  },
  {
   "cell_type": "code",
   "execution_count": null,
   "metadata": {},
   "outputs": [],
   "source": []
  }
 ],
 "metadata": {
  "kernelspec": {
   "display_name": "Python 3.9.13 64-bit (microsoft store)",
   "language": "python",
   "name": "python3"
  },
  "language_info": {
   "codemirror_mode": {
    "name": "ipython",
    "version": 3
   },
   "file_extension": ".py",
   "mimetype": "text/x-python",
   "name": "python",
   "nbconvert_exporter": "python",
   "pygments_lexer": "ipython3",
   "version": "3.9.13"
  },
  "orig_nbformat": 4,
  "vscode": {
   "interpreter": {
    "hash": "497338f01161d141240caa60efca5087225791fadc9b7c964beb65d863e046f0"
   }
  }
 },
 "nbformat": 4,
 "nbformat_minor": 2
}
