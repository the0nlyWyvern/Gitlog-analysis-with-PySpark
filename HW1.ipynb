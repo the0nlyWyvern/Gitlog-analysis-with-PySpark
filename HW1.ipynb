{
 "cells": [
  {
   "cell_type": "markdown",
   "id": "46896a80",
   "metadata": {},
   "source": [
    "# Lab 01: Các câu lệnh Linux, Conda\n",
    "\n",
    "Đầu tiên hãy cung cấp thông tin cần thiết để chúng ta biết bạn là ai\n",
    "\n",
    "Họ tên: Trần Tuấn Kiệt\n",
    "\n",
    "MSSV: 19120557"
   ]
  },
  {
   "cell_type": "markdown",
   "id": "98060f23",
   "metadata": {},
   "source": [
    "---"
   ]
  },
  {
   "cell_type": "markdown",
   "id": "155aa0df",
   "metadata": {},
   "source": [
    "## Cách làm bài và nộp bài"
   ]
  },
  {
   "cell_type": "markdown",
   "id": "f181e2a2",
   "metadata": {},
   "source": [
    "&#9889; Bạn lưu ý là mình sẽ dùng chương trình hỗ trợ chấm bài nên bạn cần phải tuân thủ chính xác qui định mà mình đặt ra, nếu không rõ thì hỏi, chứ không nên tự tiện làm theo ý của cá nhân.\n",
    "\n",
    "**Cách làm bài**\n",
    "\n",
    "Bạn sẽ làm trực tiếp trên file notebook này. Đầu tiên, bạn điền họ tên và MSSV vào phần đầu file ở bên trên. Trong file, bạn làm bài ở những chỗ có ghi là:\n",
    "```python\n",
    "# YOUR CODE HERE\n",
    "raise NotImplementedError()\n",
    "```\n",
    "hoặc đối với những phần code không bắt buộc thì là:\n",
    "```python\n",
    "# YOUR CODE HERE (OPTION)\n",
    "```\n",
    "hoặc đối với markdown cell thì là:\n",
    "```markdown\n",
    "YOUR ANSWER HERE\n",
    "```\n",
    "Tất nhiên, khi làm thì bạn xóa dòng `raise NotImplementedError()` đi.\n",
    "Đối những phần yêu cầu code thì thường ở ngay phía dưới sẽ có một (hoặc một số) cell chứa các bộ test để giúp bạn biết đã code đúng hay chưa; nếu chạy cell này không có lỗi gì thì có nghĩa là qua được các bộ test. Trong một số trường hợp, các bộ test có thể sẽ không đầy đủ; nghĩa là, nếu không qua được test thì là code sai, nhưng nếu qua được test thì chưa chắc đã đúng hoàn toàn.\n",
    "\n",
    "Trong khi làm bài, bạn có thể cho in ra màn hình, tạo thêm các cell để test. Nhưng khi nộp bài thì bạn xóa các cell mà bạn tự tạo, xóa hoặc comment các câu lệnh in ra màn hình. Bạn lưu ý <font color=red>không được tự tiện xóa các cell hay sửa code của Thầy</font> (trừ những chỗ được phép sửa như đã nói ở trên).\n",
    "\n",
    "Bạn cố gắng giữ cho code rõ ràng, ngăn nắp: đặt tên biến gợi ý, comment ở những chỗ cần comment, giữ cho một dòng code không quá dài (vì nếu không thì người đọc sẽ phải mất công scroll, bạn có thể dùng qui tắc: một dòng code chỉ nên có tối đa là 79 ký tự). \n",
    "\n",
    "Trong khi làm bài, thường xuyên `Ctrl + S` để lưu lại bài làm của bạn, tránh mất mát thông tin.\n",
    "\n",
    "\n",
    "*Nên nhớ mục tiêu chính ở đây là <font color=green>học, học một cách chân thật</font>. Bạn có thể thảo luận ý tưởng với bạn khác, nhưng <font color=green>code và bài làm phải là của bạn, dựa trên sự hiểu thật sự của bạn</font>. <font color=red>Nếu vi phạm thì sẽ bị 0 điểm cho toàn bộ môn học.</font>*\n",
    "\n",
    "**Cách nộp bài**\n",
    "\n",
    "Khi chấm bài, đầu tiên mình sẽ chọn `Kernel` - `Restart & Run All` để restart và chạy tất cả các cell trong notebook của bạn; do đó, trước khi nộp bài, bạn nên chạy thử `Kernel` - `Restart & Run All` để đảm bảo mọi chuyện diễn ra đúng như mong đợi.\n",
    "\n",
    "Sau đó, bạn tạo thư mục nộp bài theo cấu trúc sau:\n",
    "- Thư mục `MSSV` (vd, nếu bạn có MSSV là 1234567 thì bạn đặt tên thư mục là `1234567`)\n",
    "    - File `HW1.ipynb` (không cần nộp các file khác)\n",
    "\n",
    "Cuối cùng, bạn nén thư mục `MSSV` này lại với định dạng *.zip (nhớ là zip nhé) và nộp ở link trên moodle. <font color=red>Bạn lưu ý tuân thủ chính xác qui định nộp bài.</font>"
   ]
  },
  {
   "cell_type": "markdown",
   "id": "c09ce040",
   "metadata": {},
   "source": [
    "---"
   ]
  },
  {
   "cell_type": "markdown",
   "id": "f5861b79",
   "metadata": {},
   "source": [
    "## Môi trường code"
   ]
  },
  {
   "cell_type": "markdown",
   "id": "a55dd304",
   "metadata": {},
   "source": [
    "Ta thống nhất trong môn này:\n",
    "- Code trên môi trường Linux (bạn đã setup ở HW0)\n",
    "- Dùng Jupyter Notebook hoặc Jupyter Lab để code file .ipynb. Lưu ý: bạn <font color=red>không dùng Google Colab</font>, vì Google Colab có thể xóa một số thông tin meta mà chương trình hỗ trợ chấm bài của mình đã tạo trong file bài tập\n",
    "- Dùng phiên bản các package như trong file \"min_ds-env.yml\" (bạn xem trong HW0 cách dùng Conda để tạo môi trường code từ file .yml và cách kích hoạt môi trường này sau khi đã tạo)"
   ]
  },
  {
   "cell_type": "code",
   "execution_count": 1,
   "id": "f4d0ddac",
   "metadata": {},
   "outputs": [
    {
     "data": {
      "text/plain": [
       "'f:\\\\Anaconda\\\\envs\\\\min_ds-env\\\\python.exe'"
      ]
     },
     "execution_count": 1,
     "metadata": {},
     "output_type": "execute_result"
    }
   ],
   "source": [
    "import sys\n",
    "sys.executable"
   ]
  },
  {
   "cell_type": "markdown",
   "id": "0aed058f",
   "metadata": {},
   "source": [
    "Nếu không có vấn đề gì thì file chạy python sẽ là file của môi trường code \"min_ds-env\".\n",
    "\n",
    "Trong bài này, ngoài Git & Jupyter Notebook/Lab thì bạn chỉ dùng Python, không dùng các thư viện khác như Numpy, Pandas, ... Trong Python, khi đọc/ghi file csv thì bạn cũng không được dùng các thư viện hỗ trợ như thư viện `csv`."
   ]
  },
  {
   "cell_type": "markdown",
   "id": "8d61e06a",
   "metadata": {},
   "source": [
    "---"
   ]
  },
  {
   "cell_type": "markdown",
   "id": "f1372718",
   "metadata": {},
   "source": [
    "## Import các thư viện cần thiết"
   ]
  },
  {
   "cell_type": "code",
   "execution_count": 2,
   "id": "aa2cfe75",
   "metadata": {},
   "outputs": [],
   "source": [
    "import datetime\n",
    "# YOUR CODE HERE (OPTION)"
   ]
  },
  {
   "cell_type": "markdown",
   "id": "cbb29f77",
   "metadata": {},
   "source": [
    "---"
   ]
  },
  {
   "cell_type": "markdown",
   "id": "6098d27a",
   "metadata": {},
   "source": [
    "## Thu thập dữ liệu (3.5đ)"
   ]
  },
  {
   "cell_type": "markdown",
   "id": "d227fd9b",
   "metadata": {},
   "source": [
    "Trong bài tập này, bạn sẽ lấy dữ liệu log của [thùng chứa nbdime](https://github.com/KienTrann/nbdime). Nbdime là công cụ giúp Git có thể diff và merge file Notebook một cách phù hợp (thay vì chỉ coi như là một file text thông thường). Link mình cung cấp không phải là link đến thùng chứa gốc của nbdime mà là thùng chứa mình \"fork\" (đại khái là tạo ra một bản copy) từ thùng chứa gốc. Lý do: mình muốn cố định lại dữ liệu log để có thể cung cấp các bộ test để bạn phần nào biết là đã code đúng hay chưa (còn nếu dùng thùng chứa gốc thì dữ liệu log có thể sẽ thay đổi trong vài ngày tới, các bộ test lúc đó có thể sẽ không còn đúng nữa).\n",
    "\n",
    "Để có thể lấy dữ liệu log thì việc đầu tiên bạn cần làm ở cell bên dưới là: \n",
    "\n",
    "- Dùng câu lệnh Git để clone thùng chứa về; bạn clone vào một thư mục cùng cấp với file notebook này. <font color=gray>Gợi ý: trong Jupyter Notebook, ở code cell, bạn có thể thực hiện một câu lệnh Linux (bao gồm câu lệnh Git) bằng cách thêm dấu ! ở đầu.</font>\n",
    "- Sau đó, để xem thử thư mục vừa clone có nặng không, bạn tính dung lượng tổng cộng của thư mục này và lưu vào biến `repo_size` (`repo_size` là một con số, đơn vị là MB); ta thống nhất: (i) dùng cờ `apparent-size` khi dùng câu lệnh `du`, (ii) code chỉ cần chạy đúng với thùng chứa cụ thể này. <font color=gray>Gợi ý: trong Jupyter Notebook, bạn có thể gán kết quả của câu lệnh Linux vào biến Python.</font>"
   ]
  },
  {
   "cell_type": "code",
   "execution_count": 3,
   "id": "8bd6ff0b",
   "metadata": {
    "deletable": false,
    "nbgrader": {
     "cell_type": "code",
     "checksum": "f9d6621381f8d838d952e28da52f9eea",
     "grade": true,
     "grade_id": "cell-5984c6f1d3bb0311",
     "locked": false,
     "points": 0.5,
     "schema_version": 3,
     "solution": true,
     "task": false
    }
   },
   "outputs": [
    {
     "name": "stderr",
     "output_type": "stream",
     "text": [
      "Cloning into 'nbdime'...\n"
     ]
    },
    {
     "data": {
      "text/plain": [
       "'9.6M'"
      ]
     },
     "execution_count": 3,
     "metadata": {},
     "output_type": "execute_result"
    }
   ],
   "source": [
    "# YOUR CODE HERE\n",
    "!git clone https://github.com/KienTrann/nbdime.git\n",
    "import subprocess\n",
    "output = subprocess.run(\"du -sh --apparent-size ./nbdime\", capture_output=True)\n",
    "repo_size = output.stdout.decode('utf-8').split('\\t')[0]\n",
    "#raise NotImplementedError()\n",
    "\n",
    "repo_size\n",
    "# Thầy HDTH với mình có test thử thì có máy ra 9.7, có máy ra 9.8\n",
    "# (có thể là do phiên bản của câu lệnh du?)"
   ]
  },
  {
   "cell_type": "markdown",
   "id": "b7c4b9c4",
   "metadata": {},
   "source": [
    "Sau khi đã clone thùng chứa về, việc kế tiếp của bạn là dùng các câu lệnh Linux (trong đó có các câu lệnh Git) và Python để lấy dữ liệu log rồi lưu xuống file \"log.tsv\" (định dạng tsv tương tự như csv nhưng các giá trị được cách nhau bởi tab). Để dễ hình dung, bạn có thể dùng Jupyter Lab để mở xem file kết quả đúng \"correct_log.tsv\" mà mình cung cấp. Như bạn có thể thấy, mỗi dòng ứng với một commit (không tính dòng đầu - dòng chứa các tên cột) và gồm các thông tin:\n",
    "- \"Id\" là id (hash) dạng viết gọn của commit\n",
    "- \"ParentIds\" là id dạng viết gọn của (các) commit cha\n",
    "- \"AuthorName\" là tên của tác giả\n",
    "- \"AuthorEmail\" là email của tác giả\n",
    "- \"AuthorDate\" là ngày tác giả thực hiện commit, ngày được format theo chuẩn RFC2822 (xem phần gợi ý ở bên dưới để biết cách lấy ngày theo format này) \n",
    "- \"Subject\" là tựa đề của message (message tương tự như email, ngoài phần \"subject\" thì có thể có thêm phần \"body\"; ở đây ta chỉ lấy phần \"subject\")\n",
    "- \"ChangedFiles\": các file bị thay đổi, nếu có nhiều file thì các file được phân tách bởi dấu phẩy\n",
    "\n",
    "Tại sao mình dùng định dạng tsv thay vì csv? Vì dấu phẩy nhiều khả năng là sẽ có trong phần \"subject\" của message. Tab ít khả năng sẽ có hơn, nhưng nếu có thì bạn hãy thay bằng bốn khoảng trắng.\n",
    "\n",
    "<font color=gray>Gợi ý cho phần này:</font> \n",
    "- <font color=gray>Bạn có thể xem thêm về câu lệnh `git log` [ở đây](https://git-scm.com/book/en/v2/Git-Basics-Viewing-the-Commit-History)</font>\n",
    "- <font color=gray>Khi ở Notebook, bạn thử `cd` đến thư mục clone rồi `pwd` xem? Kết quả như vậy là vì khi thực hiện một dòng lệnh Linux ở Notebook thì Notebook sẽ tạo ra một terminal tạm thời để thực thi dòng lệnh đó trong phút chốc. Như vậy, câu lệnh `cd` vẫn là có `cd` đến thư mục clone nhưng là ở terminal tạm thời; khi câu lệnh `cd` chạy xong thì terminal tạm thời này sẽ được đóng và ta vẫn ở thư mục mà hiện chứa file Notebook. Để có thể `cd` rồi `pwd` thì một cách là ghi 2 câu lệnh này trên một dòng và cách nhau bởi `&&`; lúc này thì cả 2 câu lệnh sẽ được thực thi trên cùng một terminal</font>"
   ]
  },
  {
   "cell_type": "code",
   "execution_count": 4,
   "id": "dd188ac1",
   "metadata": {
    "deletable": false,
    "nbgrader": {
     "cell_type": "code",
     "checksum": "55b0b31d2d3104224a68b2c60ac4fccf",
     "grade": false,
     "grade_id": "cell-7a31931ee1dd0b8b",
     "locked": false,
     "schema_version": 3,
     "solution": true,
     "task": false
    }
   },
   "outputs": [],
   "source": [
    "# YOUR CODE HERE\n",
    "!cd nbdime && git log --pretty=format:\"%h    %p    %an    %ae    %aD    %s    \" --name-only > ../log.tsv\n",
    "#_____________________________\n",
    "lines = []\n",
    "with open(\"log.tsv\", 'r', encoding='utf-8') as f:\n",
    "    lines = f.read().splitlines()\n",
    "\n",
    "    for i in range(len(lines)):\n",
    "        lines[i] = lines[i].replace(\"    \", \"\\t\")\n",
    "\n",
    "    for i in range(len(lines) - 1):\n",
    "        if len(lines[i].split(\"\\t\")) > 1:\n",
    "            if len(lines[i+1].split(\"\\t\")) == 1:\n",
    "                continue\n",
    "            else:\n",
    "                lines[i] = lines[i] + '\\n'\n",
    "                continue\n",
    "\n",
    "        if lines[i] == \"\":\n",
    "            continue\n",
    "        \n",
    "        if lines[i+1] != \"\":\n",
    "            lines[i] = lines[i] + ','\n",
    "        else:\n",
    "            lines[i] = lines[i] + '\\n'\n",
    "\n",
    "with open(\"log.tsv\", 'w', encoding='utf-8') as f:\n",
    "    f.write(\"Id\tParentIds\tAuthorName\tAuthorEmail\tAuthorDate\tSubject\tChangedFiles\\n\")\n",
    "    for i in lines:\n",
    "        f.write(i)\n",
    "    f.write('\\n')\n",
    "#raise NotImplementedError()"
   ]
  },
  {
   "cell_type": "code",
   "execution_count": 5,
   "id": "1c507d6f",
   "metadata": {
    "deletable": false,
    "editable": false,
    "nbgrader": {
     "cell_type": "code",
     "checksum": "0423c7b3167b4b74060cf441d2dc344b",
     "grade": true,
     "grade_id": "cell-1671c3f106d5da7d",
     "locked": true,
     "points": 3,
     "schema_version": 3,
     "solution": false,
     "task": false
    }
   },
   "outputs": [],
   "source": [
    "# TEST\n",
    "file = open('log.tsv', 'r')\n",
    "log = file.read()\n",
    "file.close()\n",
    "file = open('correct_log.tsv', 'r')\n",
    "correct_log = file.read()\n",
    "file.close()\n",
    "assert log == correct_log"
   ]
  },
  {
   "cell_type": "markdown",
   "id": "43a99fa4",
   "metadata": {},
   "source": [
    "---"
   ]
  },
  {
   "cell_type": "markdown",
   "id": "804be566",
   "metadata": {},
   "source": [
    "## Khám phá dữ liệu"
   ]
  },
  {
   "cell_type": "markdown",
   "id": "d4673a3c",
   "metadata": {},
   "source": [
    "### Dữ liệu có bao nhiêu dòng và bao nhiêu cột? (0.5đ)"
   ]
  },
  {
   "cell_type": "markdown",
   "id": "8cb31291",
   "metadata": {},
   "source": [
    "Đầu tiên, bạn sẽ đọc dữ liệu từ file \"log.tsv\" (nếu phần thu thập dữ liệu bạn làm chưa đúng thì bạn có thể đọc từ file \"correct_log.tsv\" mà mình đã cung cấp). Bạn lưu kết quả đọc được vào biến `cols`. Biến `cols` là một dictionary, trong đó mỗi phần tử ứng với một cột, key là chuỗi ứng với tên cột, value là list chứa các giá trị của cột (mỗi giá trị bạn cứ tạm để kiểu dữ liệu là chuỗi).\n",
    "\n",
    "Kế tiếp, từ biến `cols`, bạn sẽ tính số dòng và số cột, rồi lần lượt lưu vào hai biến là `num_rows` và `num_cols`."
   ]
  },
  {
   "cell_type": "code",
   "execution_count": 6,
   "id": "3e6f19fd",
   "metadata": {
    "deletable": false,
    "nbgrader": {
     "cell_type": "code",
     "checksum": "2129a14a7289ce808929d5a67e787a07",
     "grade": false,
     "grade_id": "cell-f2f6dbf283e0ccee",
     "locked": false,
     "schema_version": 3,
     "solution": true,
     "task": false
    }
   },
   "outputs": [],
   "source": [
    "# YOUR CODE HERE\n",
    "cols = {}\n",
    "\n",
    "with open('correct_log.tsv', 'r', encoding='utf-8') as f:\n",
    "    cols_name = f.readline().split(\"\\t\")\n",
    "    cols_name[-1] = cols_name[-1].replace('\\n','')\n",
    "\n",
    "    for _, name in enumerate(cols_name):\n",
    "        cols[name] = []\n",
    "    \n",
    "    for line in f:\n",
    "        l = line.split(\"\\t\")\n",
    "        # l[-1] = l[-1][:-2]\n",
    "        l[-1] = l[-1].replace('\\n','')\n",
    "        for n, i in zip(list(cols.keys()), l):\n",
    "            cols[n].append(i)\n",
    "\n",
    "\n",
    "num_cols = len(cols.keys())\n",
    "num_rows = len(cols['Id'])\n",
    "#raise NotImplementedError()"
   ]
  },
  {
   "cell_type": "code",
   "execution_count": 7,
   "id": "f7e3e0ee",
   "metadata": {
    "deletable": false,
    "editable": false,
    "nbgrader": {
     "cell_type": "code",
     "checksum": "b8aeec5e8bb7d4402d3ade6077db687d",
     "grade": true,
     "grade_id": "cell-cae77558e0985b8d",
     "locked": true,
     "points": 0.5,
     "schema_version": 3,
     "solution": false,
     "task": false
    }
   },
   "outputs": [],
   "source": [
    "# TEST\n",
    "assert num_rows == 1928\n",
    "assert num_cols == 7\n",
    "assert set(cols.keys()) == set(['Id', 'ParentIds', 'AuthorName', \n",
    "                                'AuthorEmail', 'AuthorDate', 'Subject', \n",
    "                                'ChangedFiles'])\n",
    "id_col_len = len(cols['Id'])\n",
    "for col_name in cols:\n",
    "    assert len(cols[col_name]) == id_col_len"
   ]
  },
  {
   "cell_type": "markdown",
   "id": "3d440322",
   "metadata": {},
   "source": [
    "### Mỗi dòng có ý nghĩa gì? Có vấn đề các dòng có ý nghĩa khác nhau không?"
   ]
  },
  {
   "cell_type": "markdown",
   "id": "2bf7cc38",
   "metadata": {},
   "source": [
    "Mỗi dòng ứng với một commit. Có vẻ không có dòng nào \"lạc loài\" (nghĩa là không có vấn đề các dòng có ý nghĩa khác nhau)."
   ]
  },
  {
   "cell_type": "markdown",
   "id": "dfd3b9ac",
   "metadata": {},
   "source": [
    "### Dữ liệu có các dòng bị lặp không? (0.25đ)"
   ]
  },
  {
   "cell_type": "markdown",
   "id": "ea9d9c8f",
   "metadata": {},
   "source": [
    "Có lẽ là không có. Để chắc ăn thì một cách là ta có thể check cột \"Id\"; nếu cột \"Id\" không có giá trị bị lặp thì có thể kết luận là không có dòng bị lặp. Bạn sẽ làm vụ này và lưu kết quả check vào biến `duplicated_id`; biến này bằng True nếu cột \"Id\" có giá trị lặp và bằng False nếu ngược lại."
   ]
  },
  {
   "cell_type": "code",
   "execution_count": 8,
   "id": "c1625ffc",
   "metadata": {
    "deletable": false,
    "nbgrader": {
     "cell_type": "code",
     "checksum": "1a76647c83c980ad5211ae3face16788",
     "grade": false,
     "grade_id": "cell-31e053e964e6c9eb",
     "locked": false,
     "schema_version": 3,
     "solution": true,
     "task": false
    }
   },
   "outputs": [],
   "source": [
    "# YOUR CODE HERE\n",
    "duplicated_id = False\n",
    "if len(cols['Id']) != len(set(cols['Id'])):\n",
    "    duplicated_id = True\n",
    "#raise NotImplementedError()"
   ]
  },
  {
   "cell_type": "code",
   "execution_count": 9,
   "id": "e0516bc2",
   "metadata": {
    "deletable": false,
    "editable": false,
    "nbgrader": {
     "cell_type": "code",
     "checksum": "42bf24e55c7bd536e139c6244328b218",
     "grade": true,
     "grade_id": "cell-ab5957518b489fa7",
     "locked": true,
     "points": 0.25,
     "schema_version": 3,
     "solution": false,
     "task": false
    }
   },
   "outputs": [],
   "source": [
    "# TEST\n",
    "assert duplicated_id == False"
   ]
  },
  {
   "cell_type": "markdown",
   "id": "f019928b",
   "metadata": {},
   "source": [
    "### Mỗi cột có ý nghĩa gì?"
   ]
  },
  {
   "cell_type": "markdown",
   "id": "b9b22dd7",
   "metadata": {},
   "source": [
    "Vụ này mình đã nói lúc thu thập dữ liệu. Ở đây, mình ghi lại một lần nữa:\n",
    "\n",
    "- \"Id\" là id (hash) dạng viết gọn của commit\n",
    "- \"ParentIds\" là id dạng viết gọn của (các) commit cha\n",
    "- \"AuthorName\" là tên của tác giả\n",
    "- \"AuthorEmail\" là email của tác giả\n",
    "- \"AuthorDate\" là ngày tác giả thực hiện commit\n",
    "- \"Subject\" là tựa đề của message (message tương tự như email, ngoài phần \"subject\" thì có thể có thêm phần \"body\"; ở đây ta chỉ lấy phần \"subject\")\n",
    "- \"ChangedFiles\": các file bị thay đổi, nếu có nhiều file thì các file được phân tách bởi dấu phẩy"
   ]
  },
  {
   "cell_type": "markdown",
   "id": "8f0a41a1",
   "metadata": {},
   "source": [
    "### Mỗi cột hiện đang có kiểu dữ liệu gì? Có cột nào có kiểu dữ liệu chưa phù hợp để có thể xử lý tiếp không?"
   ]
  },
  {
   "cell_type": "markdown",
   "id": "b7268c8f",
   "metadata": {},
   "source": [
    "- Các cột \"Id\", \"ParentIds\", \"AuthorName\", \"AuthorEmail\", \"Subject\": kiểu dữ liệu dạng chuỗi là đúng rồi\n",
    "- Cột \"ChangedFiles\": hmm ... có lẽ tạm thời ta vẫn để dạng chuỗi, có gì cần thì ta sẽ xử lý sau\n",
    "- Cột \"AuthorDate\": cần chuyển từ kiểu dữ liệu dạng chuỗi sang datetime; để có thể tiếp tục khám phá tiếp thì ngay sau đây bạn sẽ tiền xử lý vụ này luôn"
   ]
  },
  {
   "cell_type": "markdown",
   "id": "eb45766a",
   "metadata": {},
   "source": [
    "---"
   ]
  },
  {
   "cell_type": "markdown",
   "id": "b94eccc0",
   "metadata": {},
   "source": [
    "## Tiền xử lý (0.5đ)"
   ]
  },
  {
   "cell_type": "markdown",
   "id": "07367649",
   "metadata": {},
   "source": [
    "Ở đây, bạn sẽ chuyển cột \"AuthorDate\" từ dạng chuỗi sang datetime. <font color=gray>Gợi ý: bạn xem [document](https://docs.python.org/3/library/datetime.html#strftime-and-strptime-format-codes) để biết cách truyền format phù hợp cho hàm `strptime`.</font>"
   ]
  },
  {
   "cell_type": "code",
   "execution_count": 10,
   "id": "4f5f670c",
   "metadata": {
    "deletable": false,
    "nbgrader": {
     "cell_type": "code",
     "checksum": "758261b3f6045b402f5abb5f4b080bb4",
     "grade": false,
     "grade_id": "cell-742e74182a9d1936",
     "locked": false,
     "schema_version": 3,
     "solution": true,
     "task": false
    }
   },
   "outputs": [],
   "source": [
    "# YOUR CODE HERE\n",
    "new_col = []\n",
    "\n",
    "for i in cols['AuthorDate']:\n",
    "    d = datetime.datetime.strptime(i, \"%a, %d %b %Y %X %z\")\n",
    "    new_col.append(d)\n",
    "\n",
    "cols['AuthorDate'] = new_col\n",
    "#raise NotImplementedError()"
   ]
  },
  {
   "cell_type": "code",
   "execution_count": 11,
   "id": "d3745ce5",
   "metadata": {
    "deletable": false,
    "editable": false,
    "nbgrader": {
     "cell_type": "code",
     "checksum": "5eca1fcb2e213809282e22ef9e6c8dfe",
     "grade": true,
     "grade_id": "cell-c551b6a15162bb10",
     "locked": true,
     "points": 0.5,
     "schema_version": 3,
     "solution": false,
     "task": false
    }
   },
   "outputs": [],
   "source": [
    "# TEST\n",
    "assert type(cols['AuthorDate'][0]) == datetime.datetime\n",
    "assert cols['AuthorDate'][0] == datetime.datetime(2021, 4, 20, 12, 27, 9, \n",
    "            tzinfo=datetime.timezone(datetime.timedelta(seconds=3600)))"
   ]
  },
  {
   "cell_type": "markdown",
   "id": "ef44a52e",
   "metadata": {},
   "source": [
    "---"
   ]
  },
  {
   "cell_type": "markdown",
   "id": "53154bef",
   "metadata": {},
   "source": [
    "## Khám phá dữ liệu (tiếp tục)"
   ]
  },
  {
   "cell_type": "markdown",
   "id": "d651709d",
   "metadata": {},
   "source": [
    "### Với mỗi cột có kiểu dữ liệu dạng số (numeric) và dạng datetime, các giá trị được phân bố như thế nào? (0.5đ)"
   ]
  },
  {
   "cell_type": "markdown",
   "id": "0d592408",
   "metadata": {},
   "source": [
    "Ở đây thì không có cột dạng số, chỉ có một cột dạng datetime là cột \"AuthorDate\".\n",
    "\n",
    "Đầu tiên, bạn tính tỉ lệ % các giá trị thiếu của cột \"AuthorDate\". <font color=gray>Gợi ý: không cần code, có thể lập luận dựa vào kết quả khi chuyển cột \"AuthorDate\" từ dạng chuỗi sang datetime ở bên trên.</font>"
   ]
  },
  {
   "cell_type": "markdown",
   "id": "38cc0dc8",
   "metadata": {
    "deletable": false,
    "nbgrader": {
     "cell_type": "markdown",
     "checksum": "0d29851ae39f01d9ed0d34f4891a918b",
     "grade": true,
     "grade_id": "cell-47e2584daf9dda74",
     "locked": false,
     "points": 0.25,
     "schema_version": 3,
     "solution": true,
     "task": false
    }
   },
   "source": [
    "YOUR ANSWER HERE\n",
    "- vì nếu có giá trị rỗng '' thì chương trình sẽ báo lỗi ValueError: time data '' does not match format ...\n"
   ]
  },
  {
   "cell_type": "markdown",
   "id": "109537c1",
   "metadata": {},
   "source": [
    "Tiếp theo, bạn tính min và max của cột \"AuthorDate\", rồi lần lượt lưu vào hai biến `author_date_min` và `author_date_max`."
   ]
  },
  {
   "cell_type": "code",
   "execution_count": 12,
   "id": "154c41c1",
   "metadata": {
    "deletable": false,
    "nbgrader": {
     "cell_type": "code",
     "checksum": "5abe340e46e2811a6fa8c3fea2bf7dd6",
     "grade": false,
     "grade_id": "cell-ed5647763d70e921",
     "locked": false,
     "schema_version": 3,
     "solution": true,
     "task": false
    }
   },
   "outputs": [],
   "source": [
    "# YOUR CODE HERE\n",
    "author_date_min = min(cols['AuthorDate'])\n",
    "author_date_max = max(cols['AuthorDate'])\n",
    "#raise NotImplementedError()"
   ]
  },
  {
   "cell_type": "code",
   "execution_count": 13,
   "id": "b713da5b",
   "metadata": {
    "deletable": false,
    "editable": false,
    "nbgrader": {
     "cell_type": "code",
     "checksum": "c7fd8957fa8f92f3f85288d8cc249fba",
     "grade": true,
     "grade_id": "cell-8bb55737a75c0a6e",
     "locked": true,
     "points": 0.25,
     "schema_version": 3,
     "solution": false,
     "task": false
    }
   },
   "outputs": [],
   "source": [
    "# TEST\n",
    "assert author_date_min == datetime.datetime(2015, 11, 9, 13, 13, 28, \n",
    "            tzinfo=datetime.timezone(datetime.timedelta(seconds=3600)))\n",
    "assert author_date_max == datetime.datetime(2021, 4, 20, 12, 27, 9, \n",
    "            tzinfo=datetime.timezone(datetime.timedelta(seconds=3600)))"
   ]
  },
  {
   "cell_type": "markdown",
   "id": "1e7d1c90",
   "metadata": {},
   "source": [
    "Hmm ... Min và max của cột \"AuthorDate\" không có gì bất thường."
   ]
  },
  {
   "cell_type": "markdown",
   "id": "49a7a821",
   "metadata": {},
   "source": [
    "### Với mỗi cột có kiểu dữ liệu dạng phân loại (categorical), các giá trị được phân bố như thế nào? (1.75đ)"
   ]
  },
  {
   "cell_type": "markdown",
   "id": "9ed2a095",
   "metadata": {},
   "source": [
    "Các cột dạng phân loại là các cột mà không phải là cột \"AuthorDate\". Bạn sẽ lưu thông tin của các cột này vào biến `cate_col_profiles`. Biến này là một dictionary, trong đó mỗi phần tử ứng với một cột dạng phân loại, key là tên cột, value là list gồm: tỉ lệ % giá trị thiếu, số lượng các giá trị khác nhau (không tính giá trị thiếu), set chứa các giá trị khác nhau (không bao gồm giá trị thiếu)."
   ]
  },
  {
   "cell_type": "code",
   "execution_count": 14,
   "id": "f41b8828",
   "metadata": {
    "deletable": false,
    "nbgrader": {
     "cell_type": "code",
     "checksum": "3317a65ff1cce4222cc0a63602dcaef9",
     "grade": false,
     "grade_id": "cell-d9eb895996d7b157",
     "locked": false,
     "schema_version": 3,
     "solution": true,
     "task": false
    }
   },
   "outputs": [],
   "source": [
    "# YOUR CODE HERE\n",
    "cate_col_profiles = {}\n",
    "columns = list(cols.keys())\n",
    "columns.remove('AuthorDate')\n",
    "\n",
    "for c in columns:\n",
    "    value = []\n",
    "\n",
    "    count = 0\n",
    "    for i in cols[c]:\n",
    "        if i == '':\n",
    "            count +=1\n",
    "    value.append(count*100/num_rows)#% gia tri thieu\n",
    "    \n",
    "    s = set(cols[c])\n",
    "    try:\n",
    "        s.remove('')\n",
    "    except KeyError:\n",
    "        pass\n",
    "  \n",
    "    value.append(len(s))#so luong cac gia tri khac nhau\n",
    "    value.append(s)#set chua cac gia tri unique\n",
    "\n",
    "    cate_col_profiles[c] = value\n",
    "#raise NotImplementedError()"
   ]
  },
  {
   "cell_type": "code",
   "execution_count": 15,
   "id": "c2b2d0d3",
   "metadata": {
    "deletable": false,
    "editable": false,
    "nbgrader": {
     "cell_type": "code",
     "checksum": "53f116101747d9d3c845e486cb8ab2e8",
     "grade": true,
     "grade_id": "cell-50123f76f79e1f27",
     "locked": true,
     "points": 1,
     "schema_version": 3,
     "solution": false,
     "task": false
    }
   },
   "outputs": [],
   "source": [
    "# TEST\n",
    "assert set(cate_col_profiles.keys()) == {'AuthorEmail', 'AuthorName', \n",
    "                                         'ChangedFiles', 'Id', \n",
    "                                         'ParentIds', 'Subject'}\n",
    "for col_name, col_profile in cate_col_profiles.items():\n",
    "    assert len(col_profile) == 3\n",
    "    assert len(col_profile[2]) == col_profile[1]\n",
    "assert round(cate_col_profiles['ParentIds'][0], 3) == 0.052\n",
    "assert round(cate_col_profiles['ChangedFiles'][0], 3) == 16.079\n",
    "assert cate_col_profiles['ParentIds'][1] == 1820\n",
    "assert cate_col_profiles['ChangedFiles'][1] == 842"
   ]
  },
  {
   "cell_type": "code",
   "execution_count": 16,
   "id": "f332814f",
   "metadata": {},
   "outputs": [
    {
     "name": "stdout",
     "output_type": "stream",
     "text": [
      "ColName      Miss(%) NumDifVals SomeVals\n",
      "Id           0.000   1928       {'ca1ba95', 'a205d4a', '979ad74', ...\n",
      "ParentIds    0.052   1820       {'ca1ba95', 'f0284ac 461fd66', 'a2...\n",
      "AuthorName   0.000   34         {'Vidar Tonaas Fauske', 'Alex Boza...\n",
      "AuthorEmail  0.000   34         {'piotr.chromiec@rtbhouse.com', 'd...\n",
      "Subject      0.000   1860       {'Extract common parts of web temp...\n",
      "ChangedFiles 16.079  842        {'nbdime/args.py,nbdime/nbdiffapp....\n"
     ]
    }
   ],
   "source": [
    "# TEST (BY EYES)\n",
    "print(f\"{'ColName':12} {'Miss(%)':7} {'NumDifVals':10} {'SomeVals'}\")\n",
    "for col_name, col_profile in cate_col_profiles.items():\n",
    "    print(f'{col_name:12} {col_profile[0]:<7.3f} {col_profile[1]:<10} {col_profile[2].__repr__()[:34]+\"...\":<}')"
   ]
  },
  {
   "cell_type": "markdown",
   "id": "80b141f0",
   "metadata": {},
   "source": [
    "Bạn quan sát kết quả in ra ở trên (tạm thời chưa để ý đến cột \"Miss(%)\") và cho biết có gì bất thường không? Hay mọi thứ đều bình thường? Cho mình biết tại sao bạn lại kết luận như vậy."
   ]
  },
  {
   "cell_type": "markdown",
   "id": "5f0862e3",
   "metadata": {
    "deletable": false,
    "nbgrader": {
     "cell_type": "markdown",
     "checksum": "6b4e0ea35fa2498c8ca58017183e5ca7",
     "grade": true,
     "grade_id": "cell-88055a6ed4991805",
     "locked": false,
     "points": 0.25,
     "schema_version": 3,
     "solution": true,
     "task": false
    }
   },
   "source": [
    "YOUR ANSWER HERE\n",
    "- khác với Id không thiếu và không có giá trị nào trùng nhau, ParentIds bị thiếu hoặc trùng\n",
    "- Dự đoán: git không buộc Parent Ids phải luôn luôn có hoặc khác nhau."
   ]
  },
  {
   "cell_type": "markdown",
   "id": "262f05c9",
   "metadata": {},
   "source": [
    "Kế tiếp, bạn hãy cho in ra các dòng mà có giá trị thiếu (in sao là tùy bạn, miễn là dễ nhìn). Sau đó, bạn hãy quan sát các dòng này để xem tại sao lại bị thiếu (trong trường hợp, bạn không biết tại sao thì cứ ghi nhận là không biết tại sao)."
   ]
  },
  {
   "cell_type": "code",
   "execution_count": 17,
   "id": "b436b01c",
   "metadata": {
    "deletable": false,
    "nbgrader": {
     "cell_type": "code",
     "checksum": "d1a9502c7c37ba7b6600579bec4e5627",
     "grade": true,
     "grade_id": "cell-fda56cd71a2bb407",
     "locked": false,
     "points": 0.25,
     "schema_version": 3,
     "solution": true,
     "task": false
    }
   },
   "outputs": [
    {
     "name": "stdout",
     "output_type": "stream",
     "text": [
      "\n",
      "    ParentIds: \n",
      "    Author: Martin Sandve Alnæs - martinal@simula.no\n",
      "    Date: 2015-11-09 13:13:28+01:00\n",
      "    Subject: Initial commit, framework files following nbformat setup.\n",
      "    Changed files: CONTRIBUTING.md,COPYING.md,MANIFEST.in,README.md,docs/README.md,nbmerge/__init__.py,nbmerge/_version.py,scripts/nbdiff,scripts/nbmerge,setup.cfg,setup.py\n",
      "    \n"
     ]
    }
   ],
   "source": [
    "# YOUR CODE HERE\n",
    "for i in range(num_rows):\n",
    "    if cols['ParentIds'][i] != \"\":\n",
    "        continue\n",
    "\n",
    "    print(f\"\"\"\n",
    "    ParentIds: {cols['ParentIds'][i]}\n",
    "    Author: {cols['AuthorName'][i]} - {cols['AuthorEmail'][i]}\n",
    "    Date: {cols['AuthorDate'][i]}\n",
    "    Subject: {cols['Subject'][i]}\n",
    "    Changed files: {cols['ChangedFiles'][i]}\n",
    "    \"\"\")\n",
    "#raise NotImplementedError()"
   ]
  },
  {
   "cell_type": "markdown",
   "id": "2826f4c7",
   "metadata": {
    "deletable": false,
    "nbgrader": {
     "cell_type": "markdown",
     "checksum": "0f5fa9e719dcc6a28b1a0ad666d3c0a9",
     "grade": true,
     "grade_id": "cell-0ce04cd6c1dd7a31",
     "locked": false,
     "points": 0.25,
     "schema_version": 3,
     "solution": true,
     "task": false
    }
   },
   "source": [
    "YOUR ANSWER HERE\n",
    "- Chú ý phần Author Date là *author_date_min*. \n",
    "- Commit lần đầu tiên, nên không có commit cha."
   ]
  },
  {
   "cell_type": "markdown",
   "id": "7fb6df75",
   "metadata": {},
   "source": [
    "---"
   ]
  },
  {
   "cell_type": "markdown",
   "id": "af20a067",
   "metadata": {},
   "source": [
    "## Đưa ra câu hỏi có ý nghĩa cần trả lời"
   ]
  },
  {
   "cell_type": "markdown",
   "id": "6d1383e9",
   "metadata": {},
   "source": [
    "Sau khi khám phá dữ liệu, ta đã hiểu hơn về dữ liệu. Bây giờ, ta hãy xem thử có câu hỏi nào có ý nghĩa mà có thể được trả lời bằng dữ liệu này không.\n",
    "\n",
    "Các câu hỏi có thể có là: \n",
    "- *Câu hỏi 1: trong năm 2021, ai là người có nhiều commit nhất, ai là người có nhiều commit nhì, ...?* \\\n",
    "Tìm câu trả lời cho câu hỏi này để làm gì? \\\n",
    "Hmm ... Chẳng hạn để khen thưởng\n",
    "- *Câu hỏi 2: commit nào là commit cuối cùng đã thay đổi file \"nbdime/webapp/templates/difftool.html\"?* \\\n",
    "Tìm câu trả lời cho câu hỏi này để làm gì? \\\n",
    "Hmm ... Chẳng hạn để đổ tội cho tác giả của commit đó ;-)"
   ]
  },
  {
   "cell_type": "markdown",
   "id": "2b8d3d6a",
   "metadata": {},
   "source": [
    "---"
   ]
  },
  {
   "cell_type": "markdown",
   "id": "0071c835",
   "metadata": {},
   "source": [
    "## Tiền xử lý (nếu cần) + phân tích dữ liệu để trả lời cho câu hỏi 1 (1đ)"
   ]
  },
  {
   "cell_type": "markdown",
   "id": "408c3c24",
   "metadata": {},
   "source": [
    "Nhắc lại câu hỏi 1: *trong năm 2021, ai là người có nhiều commit nhất, ai là người có nhiều commit nhì, ...?*\n",
    "\n",
    "Bạn sẽ lưu kết quả vào biến `wanted_people`. Biến này là một dictionary, mỗi phần tử ứng với một người mà có commit trong năm 2021, key là tên của người đó, value là số lượng commit của người đó. Dictionary này được sort theo value giảm dần."
   ]
  },
  {
   "cell_type": "code",
   "execution_count": 18,
   "id": "937386a9",
   "metadata": {
    "deletable": false,
    "nbgrader": {
     "cell_type": "code",
     "checksum": "164597dfc4cff18b22014680c9345b6e",
     "grade": false,
     "grade_id": "cell-a40eed2ac02f6c2b",
     "locked": false,
     "schema_version": 3,
     "solution": true,
     "task": false
    }
   },
   "outputs": [
    {
     "name": "stdout",
     "output_type": "stream",
     "text": [
      "{'Vidar Tonaas Fauske': 26, 'Alex Bozarth': 9, 'Frederic COLLONVAL': 7, 'Frédéric Collonval': 6, 'krassowski': 2, 'Michał Krassowski': 2}\n"
     ]
    }
   ],
   "source": [
    "# YOUR CODE HERE\n",
    "wanted_people = {}\n",
    "\n",
    "filter_year21 = []\n",
    "for i in range(num_rows):\n",
    "    if cols['AuthorDate'][i].year == 2021:\n",
    "        filter_year21.append(i)\n",
    "\n",
    "for i in filter_year21:\n",
    "    name = cols['AuthorName'][i]\n",
    "    if name not in set(wanted_people.keys()):\n",
    "        wanted_people[name] = 1\n",
    "    else:\n",
    "        wanted_people[name] += 1\n",
    "\n",
    "wanted_people = dict(sorted(wanted_people.items(), key=lambda item: item[1], reverse=True))\n",
    "print(wanted_people)\n",
    "#raise NotImplementedError()"
   ]
  },
  {
   "cell_type": "code",
   "execution_count": 19,
   "id": "93459f36",
   "metadata": {
    "deletable": false,
    "editable": false,
    "nbgrader": {
     "cell_type": "code",
     "checksum": "a7294256d2ff774d1305360568b58d73",
     "grade": true,
     "grade_id": "cell-9e312d16b92a0e40",
     "locked": true,
     "points": 1,
     "schema_version": 3,
     "solution": false,
     "task": false
    }
   },
   "outputs": [],
   "source": [
    "# TEST\n",
    "correct_wanted_people = {'Vidar Tonaas Fauske': 26, \n",
    "                         'Alex Bozarth': 9, \n",
    "                         'Frederic COLLONVAL': 7, \n",
    "                         'Frédéric Collonval': 6, \n",
    "                         'krassowski': 2, \n",
    "                         'Michał Krassowski': 2}\n",
    "assert wanted_people == correct_wanted_people"
   ]
  },
  {
   "cell_type": "markdown",
   "id": "331e0d37",
   "metadata": {},
   "source": [
    "---"
   ]
  },
  {
   "cell_type": "markdown",
   "id": "e34f11a1",
   "metadata": {},
   "source": [
    "## Tiền xử lý (nếu cần) + phân tích dữ liệu để trả lời cho câu hỏi 2 (2đ)"
   ]
  },
  {
   "cell_type": "markdown",
   "id": "da4781dc",
   "metadata": {},
   "source": [
    "Nhắc lại câu hỏi 2: *commit nào là commit cuối cùng đã thay đổi file \"nbdime/webapp/templates/difftool.html\"?*\n",
    "\n",
    "Ta thống nhất: không xét các commit \"merge pull request\" vì các commit này không có thông tin về \"ChangedFiles\".\n",
    "\n",
    "Bạn lưu kết quả vào biến `wanted_commit`. Biến này là một dictionary, trong đó mỗi phần tử ứng với một thông tin của commit, key là tên cột, value là giá trị tương ứng."
   ]
  },
  {
   "cell_type": "code",
   "execution_count": 20,
   "id": "c329cf22",
   "metadata": {
    "deletable": false,
    "nbgrader": {
     "cell_type": "code",
     "checksum": "e6cbf3fcba915f428f1ac9b6f208e6ef",
     "grade": false,
     "grade_id": "cell-37a6a90f597ad4a1",
     "locked": false,
     "schema_version": 3,
     "solution": true,
     "task": false
    }
   },
   "outputs": [],
   "source": [
    "# YOUR CODE HERE\n",
    "filter_changedFiles = []\n",
    "for i in range(num_rows):\n",
    "    s = cols['ChangedFiles'][i].find(\"nbdime/webapp/templates/difftool.html\")\n",
    "    if s != -1:\n",
    "        filter_changedFiles.append(i)\n",
    "\n",
    "latest = filter_changedFiles[0]\n",
    "for i in filter_changedFiles:\n",
    "    if cols['AuthorDate'][i] > cols['AuthorDate'][latest]:\n",
    "        latest = i\n",
    "\n",
    "wanted_commit = dict()\n",
    "for i in list(cols.keys()):\n",
    "    wanted_commit[i] = cols[i][latest]\n",
    "#raise NotImplementedError()"
   ]
  },
  {
   "cell_type": "code",
   "execution_count": 21,
   "id": "777ead1c",
   "metadata": {
    "deletable": false,
    "editable": false,
    "nbgrader": {
     "cell_type": "code",
     "checksum": "916a7ddb9a0120cadf1501a14a675d3e",
     "grade": true,
     "grade_id": "cell-41c49732faf571f7",
     "locked": true,
     "points": 2,
     "schema_version": 3,
     "solution": false,
     "task": false
    }
   },
   "outputs": [],
   "source": [
    "# TEST\n",
    "correct_wanted_commit = {\\\n",
    "    'Id': 'be0b5ee',\n",
    "    'ParentIds': '4226179',\n",
    "    'AuthorName': 'Vidar Tonaas Fauske',\n",
    "    'AuthorEmail': 'vidartf@gmail.com',\n",
    "    'AuthorDate': datetime.datetime(2017, 7, 4, 22, 53, 9, tzinfo=datetime.timezone(datetime.timedelta(seconds=7200))),\n",
    "    'Subject': 'jinja2 templates + avoid name collisions with nb',\n",
    "    'ChangedFiles': 'nbdime/webapp/nbdimeserver.py,nbdime/webapp/templates/compare.html,nbdime/webapp/templates/diff.html,nbdime/webapp/templates/difftool.html,nbdime/webapp/templates/merge.html,nbdime/webapp/templates/mergetool.html,nbdime/webapp/templates/nbdimepage.html,setup.py'\\\n",
    "}\n",
    "assert wanted_commit == correct_wanted_commit"
   ]
  }
 ],
 "metadata": {
  "kernelspec": {
   "display_name": "Python 3.8.8 ('min_ds-env')",
   "language": "python",
   "name": "python3"
  },
  "language_info": {
   "codemirror_mode": {
    "name": "ipython",
    "version": 3
   },
   "file_extension": ".py",
   "mimetype": "text/x-python",
   "name": "python",
   "nbconvert_exporter": "python",
   "pygments_lexer": "ipython3",
   "version": "3.8.8"
  },
  "toc": {
   "base_numbering": 1,
   "nav_menu": {},
   "number_sections": false,
   "sideBar": true,
   "skip_h1_title": true,
   "title_cell": "Table of Contents",
   "title_sidebar": "Contents",
   "toc_cell": false,
   "toc_position": {
    "height": "calc(100% - 180px)",
    "left": "10px",
    "top": "150px",
    "width": "165px"
   },
   "toc_section_display": true,
   "toc_window_display": true
  },
  "vscode": {
   "interpreter": {
    "hash": "930a585fac634add642c8c01d5c8e013a0763df546aa5d22ccab6a2eba337c74"
   }
  }
 },
 "nbformat": 4,
 "nbformat_minor": 5
}
